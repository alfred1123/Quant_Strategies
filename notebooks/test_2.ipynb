{
 "cells": [
  {
   "cell_type": "code",
   "execution_count": 6,
   "metadata": {},
   "outputs": [
    {
     "name": "stdout",
     "output_type": "stream",
     "text": [
      "[False  True  True  True False False False  True  True False]\n",
      "[ True False False False  True  True  True False False  True]\n"
     ]
    },
    {
     "data": {
      "text/plain": [
       "3"
      ]
     },
     "execution_count": 6,
     "metadata": {},
     "output_type": "execute_result"
    }
   ],
   "source": [
    "import numpy as np\n",
    "\n",
    "def max_repeatedNaNs_v2(a):\n",
    "    mask = np.concatenate(([False],np.isnan(a),[False]))\n",
    "    print(mask)\n",
    "    print(~mask)\n",
    "    if ~mask.any():\n",
    "        return 0\n",
    "    else:\n",
    "        idx = np.nonzero(mask[1:] != mask[:-1])[0]\n",
    "        return (idx[1::2] - idx[::2]).max()\n",
    "    \n",
    "max_repeatedNaNs_v2(np.array([np.nan, np.nan, np.nan, 1, 2, 3, np.nan, np.nan]))"
   ]
  },
  {
   "cell_type": "code",
   "execution_count": 5,
   "metadata": {},
   "outputs": [
    {
     "name": "stdout",
     "output_type": "stream",
     "text": [
      "1    2\n",
      "2    3\n",
      "3    4\n",
      "4    5\n",
      "Name: A, dtype: int64\n"
     ]
    }
   ],
   "source": [
    "import pandas as pd\n",
    "\n",
    "df = pd.DataFrame({\n",
    "    'A': [1, 2, 3, 4, 5],\n",
    "    'B': ['apple', 'banana', 'orange', 'pear', 'peach'],\n",
    "    'C': [True, False, True, False, True]\n",
    "})\n",
    "\n",
    "print(df['A'].loc[1:len(df)])"
   ]
  },
  {
   "cell_type": "code",
   "execution_count": 14,
   "metadata": {},
   "outputs": [
    {
     "ename": "ValueError",
     "evalue": "Expected object or value",
     "output_type": "error",
     "traceback": [
      "\u001b[1;31m---------------------------------------------------------------------------\u001b[0m",
      "\u001b[1;31mValueError\u001b[0m                                Traceback (most recent call last)",
      "Cell \u001b[1;32mIn[14], line 25\u001b[0m\n\u001b[0;32m     21\u001b[0m resolution \u001b[39m=\u001b[39m \u001b[39m\"\u001b[39m\u001b[39m1h\u001b[39m\u001b[39m\"\u001b[39m\n\u001b[0;32m     23\u001b[0m res \u001b[39m=\u001b[39m requests\u001b[39m.\u001b[39mget(\u001b[39m\"\u001b[39m\u001b[39mhttps://api.glassnode.com/v1/metrics/market/price_usd_close\u001b[39m\u001b[39m\"\u001b[39m,\n\u001b[0;32m     24\u001b[0m     params\u001b[39m=\u001b[39m{\u001b[39m\"\u001b[39m\u001b[39ma\u001b[39m\u001b[39m\"\u001b[39m: \u001b[39m\"\u001b[39m\u001b[39mBTC\u001b[39m\u001b[39m\"\u001b[39m, \u001b[39m\"\u001b[39m\u001b[39ms\u001b[39m\u001b[39m\"\u001b[39m: since, \u001b[39m\"\u001b[39m\u001b[39mu\u001b[39m\u001b[39m\"\u001b[39m: until, \u001b[39m\"\u001b[39m\u001b[39mapi_key\u001b[39m\u001b[39m\"\u001b[39m: API_KEY, \u001b[39m\"\u001b[39m\u001b[39mi\u001b[39m\u001b[39m\"\u001b[39m: resolution})\n\u001b[1;32m---> 25\u001b[0m df_value \u001b[39m=\u001b[39m pd\u001b[39m.\u001b[39;49mread_json(res\u001b[39m.\u001b[39;49mtext, convert_dates\u001b[39m=\u001b[39;49m[\u001b[39m'\u001b[39;49m\u001b[39mt\u001b[39;49m\u001b[39m'\u001b[39;49m])\n\u001b[0;32m     27\u001b[0m res \u001b[39m=\u001b[39m requests\u001b[39m.\u001b[39mget(\u001b[39m\"\u001b[39m\u001b[39mhttps://api.glassnode.com/v1/metrics/market/price_usd_close\u001b[39m\u001b[39m\"\u001b[39m,\n\u001b[0;32m     28\u001b[0m     params\u001b[39m=\u001b[39m{\u001b[39m\"\u001b[39m\u001b[39ma\u001b[39m\u001b[39m\"\u001b[39m: \u001b[39m\"\u001b[39m\u001b[39mBTC\u001b[39m\u001b[39m\"\u001b[39m, \u001b[39m\"\u001b[39m\u001b[39ms\u001b[39m\u001b[39m\"\u001b[39m: since, \u001b[39m\"\u001b[39m\u001b[39mu\u001b[39m\u001b[39m\"\u001b[39m: until, \u001b[39m\"\u001b[39m\u001b[39mapi_key\u001b[39m\u001b[39m\"\u001b[39m: API_KEY, \u001b[39m\"\u001b[39m\u001b[39mi\u001b[39m\u001b[39m\"\u001b[39m: resolution})\n\u001b[0;32m     29\u001b[0m df_price \u001b[39m=\u001b[39m pd\u001b[39m.\u001b[39mread_json(res\u001b[39m.\u001b[39mtext, convert_dates\u001b[39m=\u001b[39m[\u001b[39m'\u001b[39m\u001b[39mt\u001b[39m\u001b[39m'\u001b[39m])\n",
      "File \u001b[1;32mc:\\Users\\User\\Desktop\\alfred\\Github Project\\Quant_Strategies\\env\\Lib\\site-packages\\pandas\\util\\_decorators.py:211\u001b[0m, in \u001b[0;36mdeprecate_kwarg.<locals>._deprecate_kwarg.<locals>.wrapper\u001b[1;34m(*args, **kwargs)\u001b[0m\n\u001b[0;32m    209\u001b[0m     \u001b[39melse\u001b[39;00m:\n\u001b[0;32m    210\u001b[0m         kwargs[new_arg_name] \u001b[39m=\u001b[39m new_arg_value\n\u001b[1;32m--> 211\u001b[0m \u001b[39mreturn\u001b[39;00m func(\u001b[39m*\u001b[39;49margs, \u001b[39m*\u001b[39;49m\u001b[39m*\u001b[39;49mkwargs)\n",
      "File \u001b[1;32mc:\\Users\\User\\Desktop\\alfred\\Github Project\\Quant_Strategies\\env\\Lib\\site-packages\\pandas\\util\\_decorators.py:331\u001b[0m, in \u001b[0;36mdeprecate_nonkeyword_arguments.<locals>.decorate.<locals>.wrapper\u001b[1;34m(*args, **kwargs)\u001b[0m\n\u001b[0;32m    325\u001b[0m \u001b[39mif\u001b[39;00m \u001b[39mlen\u001b[39m(args) \u001b[39m>\u001b[39m num_allow_args:\n\u001b[0;32m    326\u001b[0m     warnings\u001b[39m.\u001b[39mwarn(\n\u001b[0;32m    327\u001b[0m         msg\u001b[39m.\u001b[39mformat(arguments\u001b[39m=\u001b[39m_format_argument_list(allow_args)),\n\u001b[0;32m    328\u001b[0m         \u001b[39mFutureWarning\u001b[39;00m,\n\u001b[0;32m    329\u001b[0m         stacklevel\u001b[39m=\u001b[39mfind_stack_level(),\n\u001b[0;32m    330\u001b[0m     )\n\u001b[1;32m--> 331\u001b[0m \u001b[39mreturn\u001b[39;00m func(\u001b[39m*\u001b[39;49margs, \u001b[39m*\u001b[39;49m\u001b[39m*\u001b[39;49mkwargs)\n",
      "File \u001b[1;32mc:\\Users\\User\\Desktop\\alfred\\Github Project\\Quant_Strategies\\env\\Lib\\site-packages\\pandas\\io\\json\\_json.py:757\u001b[0m, in \u001b[0;36mread_json\u001b[1;34m(path_or_buf, orient, typ, dtype, convert_axes, convert_dates, keep_default_dates, numpy, precise_float, date_unit, encoding, encoding_errors, lines, chunksize, compression, nrows, storage_options)\u001b[0m\n\u001b[0;32m    754\u001b[0m     \u001b[39mreturn\u001b[39;00m json_reader\n\u001b[0;32m    756\u001b[0m \u001b[39mwith\u001b[39;00m json_reader:\n\u001b[1;32m--> 757\u001b[0m     \u001b[39mreturn\u001b[39;00m json_reader\u001b[39m.\u001b[39;49mread()\n",
      "File \u001b[1;32mc:\\Users\\User\\Desktop\\alfred\\Github Project\\Quant_Strategies\\env\\Lib\\site-packages\\pandas\\io\\json\\_json.py:915\u001b[0m, in \u001b[0;36mJsonReader.read\u001b[1;34m(self)\u001b[0m\n\u001b[0;32m    913\u001b[0m         obj \u001b[39m=\u001b[39m \u001b[39mself\u001b[39m\u001b[39m.\u001b[39m_get_object_parser(\u001b[39mself\u001b[39m\u001b[39m.\u001b[39m_combine_lines(data_lines))\n\u001b[0;32m    914\u001b[0m \u001b[39melse\u001b[39;00m:\n\u001b[1;32m--> 915\u001b[0m     obj \u001b[39m=\u001b[39m \u001b[39mself\u001b[39;49m\u001b[39m.\u001b[39;49m_get_object_parser(\u001b[39mself\u001b[39;49m\u001b[39m.\u001b[39;49mdata)\n\u001b[0;32m    916\u001b[0m \u001b[39mself\u001b[39m\u001b[39m.\u001b[39mclose()\n\u001b[0;32m    917\u001b[0m \u001b[39mreturn\u001b[39;00m obj\n",
      "File \u001b[1;32mc:\\Users\\User\\Desktop\\alfred\\Github Project\\Quant_Strategies\\env\\Lib\\site-packages\\pandas\\io\\json\\_json.py:937\u001b[0m, in \u001b[0;36mJsonReader._get_object_parser\u001b[1;34m(self, json)\u001b[0m\n\u001b[0;32m    935\u001b[0m obj \u001b[39m=\u001b[39m \u001b[39mNone\u001b[39;00m\n\u001b[0;32m    936\u001b[0m \u001b[39mif\u001b[39;00m typ \u001b[39m==\u001b[39m \u001b[39m\"\u001b[39m\u001b[39mframe\u001b[39m\u001b[39m\"\u001b[39m:\n\u001b[1;32m--> 937\u001b[0m     obj \u001b[39m=\u001b[39m FrameParser(json, \u001b[39m*\u001b[39;49m\u001b[39m*\u001b[39;49mkwargs)\u001b[39m.\u001b[39;49mparse()\n\u001b[0;32m    939\u001b[0m \u001b[39mif\u001b[39;00m typ \u001b[39m==\u001b[39m \u001b[39m\"\u001b[39m\u001b[39mseries\u001b[39m\u001b[39m\"\u001b[39m \u001b[39mor\u001b[39;00m obj \u001b[39mis\u001b[39;00m \u001b[39mNone\u001b[39;00m:\n\u001b[0;32m    940\u001b[0m     \u001b[39mif\u001b[39;00m \u001b[39mnot\u001b[39;00m \u001b[39misinstance\u001b[39m(dtype, \u001b[39mbool\u001b[39m):\n",
      "File \u001b[1;32mc:\\Users\\User\\Desktop\\alfred\\Github Project\\Quant_Strategies\\env\\Lib\\site-packages\\pandas\\io\\json\\_json.py:1064\u001b[0m, in \u001b[0;36mParser.parse\u001b[1;34m(self)\u001b[0m\n\u001b[0;32m   1062\u001b[0m     \u001b[39mself\u001b[39m\u001b[39m.\u001b[39m_parse_numpy()\n\u001b[0;32m   1063\u001b[0m \u001b[39melse\u001b[39;00m:\n\u001b[1;32m-> 1064\u001b[0m     \u001b[39mself\u001b[39;49m\u001b[39m.\u001b[39;49m_parse_no_numpy()\n\u001b[0;32m   1066\u001b[0m \u001b[39mif\u001b[39;00m \u001b[39mself\u001b[39m\u001b[39m.\u001b[39mobj \u001b[39mis\u001b[39;00m \u001b[39mNone\u001b[39;00m:\n\u001b[0;32m   1067\u001b[0m     \u001b[39mreturn\u001b[39;00m \u001b[39mNone\u001b[39;00m\n",
      "File \u001b[1;32mc:\\Users\\User\\Desktop\\alfred\\Github Project\\Quant_Strategies\\env\\Lib\\site-packages\\pandas\\io\\json\\_json.py:1321\u001b[0m, in \u001b[0;36mFrameParser._parse_no_numpy\u001b[1;34m(self)\u001b[0m\n\u001b[0;32m   1317\u001b[0m orient \u001b[39m=\u001b[39m \u001b[39mself\u001b[39m\u001b[39m.\u001b[39morient\n\u001b[0;32m   1319\u001b[0m \u001b[39mif\u001b[39;00m orient \u001b[39m==\u001b[39m \u001b[39m\"\u001b[39m\u001b[39mcolumns\u001b[39m\u001b[39m\"\u001b[39m:\n\u001b[0;32m   1320\u001b[0m     \u001b[39mself\u001b[39m\u001b[39m.\u001b[39mobj \u001b[39m=\u001b[39m DataFrame(\n\u001b[1;32m-> 1321\u001b[0m         loads(json, precise_float\u001b[39m=\u001b[39;49m\u001b[39mself\u001b[39;49m\u001b[39m.\u001b[39;49mprecise_float), dtype\u001b[39m=\u001b[39m\u001b[39mNone\u001b[39;00m\n\u001b[0;32m   1322\u001b[0m     )\n\u001b[0;32m   1323\u001b[0m \u001b[39melif\u001b[39;00m orient \u001b[39m==\u001b[39m \u001b[39m\"\u001b[39m\u001b[39msplit\u001b[39m\u001b[39m\"\u001b[39m:\n\u001b[0;32m   1324\u001b[0m     decoded \u001b[39m=\u001b[39m {\n\u001b[0;32m   1325\u001b[0m         \u001b[39mstr\u001b[39m(k): v\n\u001b[0;32m   1326\u001b[0m         \u001b[39mfor\u001b[39;00m k, v \u001b[39min\u001b[39;00m loads(json, precise_float\u001b[39m=\u001b[39m\u001b[39mself\u001b[39m\u001b[39m.\u001b[39mprecise_float)\u001b[39m.\u001b[39mitems()\n\u001b[0;32m   1327\u001b[0m     }\n",
      "\u001b[1;31mValueError\u001b[0m: Expected object or value"
     ]
    }
   ],
   "source": [
    "import pandas as pd\n",
    "import numpy as np\n",
    "import plotly.express as px\n",
    "import seaborn as sns\n",
    "import matplotlib.pyplot as plt\n",
    "import requests\n",
    "import time\n",
    "\n",
    "pd.set_option('display.max_rows', None)\n",
    "pd.set_option('display.max_columns', None)\n",
    "pd.set_option('display.width', 1000)\n",
    "\n",
    "##### glassnode api\n",
    "# insert your API key here\n",
    "API_KEY = '2NdxyJCRiTcs5XZUidfNDW9olTb'\n",
    "\n",
    "# set time to download\n",
    "since = 1589155200 # 2020 May 11\n",
    "# since = 1646092800 # 2022 Mar 1\n",
    "until = 1677628800 # 2023 Mar 1\n",
    "resolution = \"1h\"\n",
    "\n",
    "res = requests.get(\"https://api.glassnode.com/v1/metrics/market/price_usd_close\",\n",
    "    params={\"a\": \"BTC\", \"s\": since, \"u\": until, \"api_key\": API_KEY, \"i\": resolution})\n",
    "df_value = pd.read_json(res.text, convert_dates=['t'])\n",
    "\n",
    "res = requests.get(\"https://api.glassnode.com/v1/metrics/market/price_usd_close\",\n",
    "    params={\"a\": \"BTC\", \"s\": since, \"u\": until, \"api_key\": API_KEY, \"i\": resolution})\n",
    "df_price = pd.read_json(res.text, convert_dates=['t'])\n",
    "\n",
    "df = pd.merge(df_value,df_price,how='inner',on='t')\n",
    "df = df.rename(columns={'v_x':'value','v_y':'price'})\n",
    "\n",
    "# this part is to import price data\n",
    "# df = pd.read_csv('BTC-USD.csv')\n",
    "# df = df[['Date','Close']]\n",
    "df['chg'] = df['price'].pct_change()\n",
    "\n",
    "def bband(window, threshold):\n",
    "    df['ma'] = df['value'].rolling(window).mean()\n",
    "    df['sd'] = df['value'].rolling(window).std()\n",
    "    df['z'] = ( df['value'] - df['ma'] ) / df['sd']\n",
    "\n",
    "    # for i in range(len(df)):\n",
    "    #     if df.loc[i,'z'] > threshold:\n",
    "    #         df.loc[i,'pos'] = 1\n",
    "    #     elif df.loc[i,'z'] < -threshold:\n",
    "    #         df.loc[i, 'pos'] = -1\n",
    "    #     else:\n",
    "    #         df.loc[i, 'pos'] = 0\n",
    "\n",
    "    df['pos'] = np.where(df['z'] > threshold, 1, np.where(df['z'] < -threshold, -1, 0))\n",
    "\n",
    "    df['pos_t-1'] = df['pos'].shift(1)\n",
    "    df['trade'] = abs(df['pos'] - df['pos_t-1'])\n",
    "    df['pnl'] = df['pos_t-1'] * df['chg'] - df['trade'] * 0.05/100 # 5 bps\n",
    "    df['cumu'] = df['pnl'].cumsum()\n",
    "    df['dd'] = df['cumu'].cummax() - df['cumu']\n",
    "\n",
    "    df['bnh_pnl'] = df['chg']\n",
    "    df.loc[0:window-1, 'bnh_pnl'] = 0\n",
    "    df['bnh_cumu'] = df['bnh_pnl'].cumsum()\n",
    "\n",
    "    annual_return = round(df['pnl'].mean() * 365 * 24, 3)\n",
    "    sharpe = round(df['pnl'].mean() / df['pnl'].std() * np.sqrt(365 * 24), 3)\n",
    "    mdd = round(df['dd'].max(), 3)\n",
    "    calmar = round(annual_return / mdd, 3)\n",
    "\n",
    "    avg_return = df.loc[window:len(df), 'pnl'].mean()\n",
    "    return_sd = df.loc[window:len(df), 'pnl'].std()\n",
    "    precise_sharpe = round(avg_return / return_sd * np.sqrt(365 * 24), 3)\n",
    "\n",
    "    bnh_sharpe = round(df['bnh_pnl'].mean() / df['bnh_pnl'].std() * np.sqrt(365 * 24), 3)\n",
    "\n",
    "    # print(df)\n",
    "    print(window, threshold, 'annual return', annual_return, 'sharpe', sharpe, 'precise_sharpe', precise_sharpe, 'bnh_sharpe', bnh_sharpe, 'mdd', mdd, 'calmar', calmar)\n",
    "\n",
    "    return pd.Series([window, threshold, precise_sharpe], index=['window', 'threshold', 'sharpe'])\n",
    "\n",
    "# window_list = [10,20,30,40,50,60,70,80,90,100]\n",
    "# threshold_list = [0,0.5,1,1.5,2]\n",
    "\n",
    "window_list = np.arange(100,3000,100)\n",
    "threshold_list = np.arange(0,2.5,0.25)\n",
    "\n",
    "##### Optimization 區\n",
    "### create a list\n",
    "result_list = []\n",
    "\n",
    "# for window in window_list:\n",
    "#     for threshold in threshold_list:\n",
    "#         result_list.append(bband(window, threshold))\n",
    "#\n",
    "# result_df = pd.DataFrame(result_list)\n",
    "# result_df = result_df.sort_values(by='sharpe',ascending=False)\n",
    "# print(result_df)\n",
    "#\n",
    "# data_table = result_df.pivot(index='window',columns='threshold',values='sharpe')\n",
    "# sns.heatmap(data_table, annot=True, fmt='g', cmap='Greens')\n",
    "# plt.show()\n",
    "\n",
    "##### Backtest 區\n",
    "# parameters\n",
    "window = 1700\n",
    "threshold = 0.5\n",
    "bband(window, threshold)\n",
    "# rsi(window, threshold)\n",
    "fig = px.line(df, x='t', y=['cumu', 'bnh_cumu', 'dd'], title='strategy')\n",
    "fig.show()"
   ]
  },
  {
   "cell_type": "code",
   "execution_count": 2,
   "metadata": {},
   "outputs": [
    {
     "name": "stdout",
     "output_type": "stream",
     "text": [
      "[(1, 4, 6), (1, 4, 7), (1, 4, 8), (1, 5, 6), (1, 5, 7), (1, 5, 8), (2, 4, 6), (2, 4, 7), (2, 4, 8), (2, 5, 6), (2, 5, 7), (2, 5, 8), (3, 4, 6), (3, 4, 7), (3, 4, 8), (3, 5, 6), (3, 5, 7), (3, 5, 8)]\n",
      "[1, 2, 3] [4, 5] [6, 7, 8]\n"
     ]
    }
   ],
   "source": [
    "import itertools\n",
    "\n",
    "# Suppose you have a dynamic number of lists\n",
    "list1 = [1, 2, 3]\n",
    "list2 = [4, 5]\n",
    "list3 = [6, 7, 8]\n",
    "\n",
    "# You can put all lists into a list of lists\n",
    "all_lists = [list1, list2, list3]\n",
    "\n",
    "# Use itertools.product() to get all possible combinations\n",
    "combinations = list(itertools.product(*all_lists))\n",
    "\n",
    "# Print the result\n",
    "print(combinations)\n",
    "print(*all_lists)"
   ]
  },
  {
   "cell_type": "code",
   "execution_count": 3,
   "metadata": {},
   "outputs": [
    {
     "name": "stdout",
     "output_type": "stream",
     "text": [
      "The method needs 3 arguments.\n"
     ]
    }
   ],
   "source": [
    "import inspect\n",
    "\n",
    "class MyClass:\n",
    "    def my_method(self, arg1, arg2):\n",
    "        pass\n",
    "\n",
    "# Get the method object\n",
    "method_obj = MyClass.my_method\n",
    "\n",
    "# Get the signature of the method object\n",
    "sig = inspect.signature(method_obj)\n",
    "\n",
    "# Print the number of arguments needed by the method\n",
    "num_args = len(sig.parameters)\n",
    "print(f\"The method needs {num_args} arguments.\")\n"
   ]
  }
 ],
 "metadata": {
  "kernelspec": {
   "display_name": "env",
   "language": "python",
   "name": "python3"
  },
  "language_info": {
   "codemirror_mode": {
    "name": "ipython",
    "version": 3
   },
   "file_extension": ".py",
   "mimetype": "text/x-python",
   "name": "python",
   "nbconvert_exporter": "python",
   "pygments_lexer": "ipython3",
   "version": "3.11.2"
  },
  "orig_nbformat": 4
 },
 "nbformat": 4,
 "nbformat_minor": 2
}
