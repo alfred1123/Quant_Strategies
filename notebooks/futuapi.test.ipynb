{
 "cells": [
  {
   "cell_type": "code",
   "execution_count": 1,
   "metadata": {},
   "outputs": [
    {
     "name": "stdout",
     "output_type": "stream",
     "text": [
      "\u001b[0;30m2023-04-01 23:15:11,750 | 32684 | [open_context_base.py] _send_init_connect_sync:311: InitConnect ok: conn_id=1, host=127.0.0.1, port=11111, user_id=17110903\u001b[0m\n",
      "\u001b[0;30m2023-04-01 23:15:12,729 | 32684 | [open_context_base.py] on_disconnect:383: Disconnected: conn_id=1\u001b[0m\n",
      "         code             time_key        open       close        high  \\\n",
      "0    HK.00700  2013-03-25 00:00:00   37.234890   36.829276   37.529882   \n",
      "1    HK.00700  2013-03-26 00:00:00   37.308638   38.230488   38.562354   \n",
      "2    HK.00700  2013-03-27 00:00:00   39.447330   38.636102   39.447330   \n",
      "3    HK.00700  2013-03-28 00:00:00   39.262960   37.935496   39.262960   \n",
      "4    HK.00700  2013-04-02 00:00:00   37.050520   37.198016   37.788000   \n",
      "..        ...                  ...         ...         ...         ...   \n",
      "995  HK.00700  2017-04-11 00:00:00  203.785540  201.019990  203.785540   \n",
      "996  HK.00700  2017-04-12 00:00:00  201.388730  206.551090  206.551090   \n",
      "997  HK.00700  2017-04-13 00:00:00  205.260500  206.182350  209.132270   \n",
      "998  HK.00700  2017-04-18 00:00:00  206.551090  203.785540  207.288570   \n",
      "999  HK.00700  2017-04-19 00:00:00  203.785540  205.813610  206.919830   \n",
      "\n",
      "            low  pe_ratio  turnover_rate    volume      turnover  change_rate  \\\n",
      "0     36.571158    28.432        0.00540  54277958  2.410935e+09    -2.250958   \n",
      "1     37.234890    29.332        0.00406  40874947  1.859721e+09     3.804615   \n",
      "2     38.525480    29.595        0.00308  30932346  1.435792e+09     1.060970   \n",
      "3     37.824874    29.147        0.00293  29474139  1.353900e+09    -1.813345   \n",
      "4     36.866150    28.650        0.00316  31783213  1.423325e+09    -1.944037   \n",
      "..          ...       ...            ...       ...           ...          ...   \n",
      "995  200.282510    46.191        0.00100  10247737  2.131424e+09    -0.637925   \n",
      "996  201.204360    47.423        0.00166  17074786  3.590179e+09     2.751517   \n",
      "997  204.523020    47.341        0.00218  22411326  4.778129e+09    -0.178522   \n",
      "998  203.785540    46.807        0.00156  16069070  3.399434e+09    -1.162471   \n",
      "999  203.785540    47.259        0.00175  18015843  3.817388e+09     0.995198   \n",
      "\n",
      "     last_close  \n",
      "0     37.677378  \n",
      "1     36.829276  \n",
      "2     38.230488  \n",
      "3     38.636102  \n",
      "4     37.935496  \n",
      "..          ...  \n",
      "995  202.310580  \n",
      "996  201.019990  \n",
      "997  206.551090  \n",
      "998  206.182350  \n",
      "999  203.785540  \n",
      "\n",
      "[1000 rows x 12 columns]\n"
     ]
    }
   ],
   "source": [
    "import futu as ft\n",
    "import pandas as pd\n",
    "\n",
    "class data:\n",
    "    \n",
    "    def data_futu(code,start,end,host,port):\n",
    "        # connect to Futu API\n",
    "        quote_ctx = ft.OpenQuoteContext(host='', port=)\n",
    "\n",
    "        # set the stock code and time range\n",
    "        code = 'HK.00700'  # Tencent stock code\n",
    "        start = '2001-01-01'\n",
    "        end = '2022-03-18'\n",
    "\n",
    "        # get the historical K-line data\n",
    "        ret, data, page_req_key = quote_ctx.request_history_kline(code, start=start, end=end)\n",
    "\n",
    "        # close the quote context\n",
    "        quote_ctx.close()\n",
    "\n",
    "        # convert the data to a pandas DataFrame\n",
    "        df = pd.DataFrame(data)\n",
    "\n",
    "        return df\n",
    "\n",
    "# print the DataFrame\n",
    "if __name__ == \"__main__\":\n",
    "    print(data.data_futu('HK.00700',\"2001-01-01\",\"2022-03-18\",\"127.0.0.1\",11111))"
   ]
  }
 ],
 "metadata": {
  "kernelspec": {
   "display_name": "Python 3",
   "language": "python",
   "name": "python3"
  },
  "language_info": {
   "codemirror_mode": {
    "name": "ipython",
    "version": 3
   },
   "file_extension": ".py",
   "mimetype": "text/x-python",
   "name": "python",
   "nbconvert_exporter": "python",
   "pygments_lexer": "ipython3",
   "version": "3.11.2"
  },
  "orig_nbformat": 4,
  "vscode": {
   "interpreter": {
    "hash": "ebfc0a8d552866b0d59eba665220a57de3bc06f3ac643b8bef38dd8f66781fdd"
   }
  }
 },
 "nbformat": 4,
 "nbformat_minor": 2
}
