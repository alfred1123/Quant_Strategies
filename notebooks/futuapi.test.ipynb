{
 "cells": [
  {
   "cell_type": "code",
   "execution_count": 1,
   "metadata": {},
   "outputs": [
    {
     "name": "stdout",
     "output_type": "stream",
     "text": [
      "\u001b[0;30m2023-03-27 10:12:04,687 | 22452 | [open_context_base.py] _send_init_connect_sync:311: InitConnect ok: conn_id=1, host=127.0.0.1, port=11111, user_id=17110903\u001b[0m\n",
      "\u001b[0;30m2023-03-27 10:12:04,937 | 22452 | [open_context_base.py] on_disconnect:383: Disconnected: conn_id=1\u001b[0m\n",
      "         code             time_key        open       close        high  \\\n",
      "0    HK.00700  2013-03-20 00:00:00   40.000440   40.885416   41.291030   \n",
      "1    HK.00700  2013-03-21 00:00:00   38.525480   38.967968   40.369180   \n",
      "2    HK.00700  2013-03-22 00:00:00   38.525480   37.677378   38.783598   \n",
      "3    HK.00700  2013-03-25 00:00:00   37.234890   36.829276   37.529882   \n",
      "4    HK.00700  2013-03-26 00:00:00   37.308638   38.230488   38.562354   \n",
      "..        ...                  ...         ...         ...         ...   \n",
      "995  HK.00700  2017-04-06 00:00:00  203.601170  203.785540  204.523020   \n",
      "996  HK.00700  2017-04-07 00:00:00  203.785540  203.048060  203.969910   \n",
      "997  HK.00700  2017-04-10 00:00:00  203.785540  202.310580  204.154280   \n",
      "998  HK.00700  2017-04-11 00:00:00  203.785540  201.019990  203.785540   \n",
      "999  HK.00700  2017-04-12 00:00:00  201.388730  206.551090  206.551090   \n",
      "\n",
      "            low  pe_ratio  turnover_rate    volume      turnover  change_rate  \\\n",
      "0     39.668574    31.030        0.00341  34281503  1.658960e+09     1.650185   \n",
      "1     36.681780    29.802        0.00926  93161680  4.338138e+09    -4.689809   \n",
      "2     37.603630    28.975        0.00667  67083847  3.057357e+09    -3.311925   \n",
      "3     36.571158    28.432        0.00540  54277958  2.410935e+09    -2.250958   \n",
      "4     37.234890    29.332        0.00406  40874947  1.859721e+09     3.804615   \n",
      "..          ...       ...            ...       ...           ...          ...   \n",
      "995  202.310580    46.807        0.00118  12139900  2.548372e+09    -0.360585   \n",
      "996  200.282510    46.643        0.00158  16193625  3.375015e+09    -0.361890   \n",
      "997  201.388730    46.479        0.00079   8113225  1.695819e+09    -0.363205   \n",
      "998  200.282510    46.191        0.00100  10247737  2.131424e+09    -0.637925   \n",
      "999  201.204360    47.423        0.00166  17074786  3.590179e+09     2.751517   \n",
      "\n",
      "     last_close  \n",
      "0     40.221684  \n",
      "1     40.885416  \n",
      "2     38.967968  \n",
      "3     37.677378  \n",
      "4     36.829276  \n",
      "..          ...  \n",
      "995  204.523020  \n",
      "996  203.785540  \n",
      "997  203.048060  \n",
      "998  202.310580  \n",
      "999  201.019990  \n",
      "\n",
      "[1000 rows x 12 columns]\n"
     ]
    }
   ],
   "source": [
    "import futu as ft\n",
    "import pandas as pd\n",
    "\n",
    "class data:\n",
    "    \n",
    "    def data_futu(code,start,end,host,port):\n",
    "        # connect to Futu API\n",
    "        quote_ctx = ft.OpenQuoteContext(host='127.0.0.1', port=11111)\n",
    "\n",
    "        # set the stock code and time range\n",
    "        code = 'HK.00700'  # Tencent stock code\n",
    "        start = '2001-01-01'\n",
    "        end = '2022-03-18'\n",
    "\n",
    "        # get the historical K-line data\n",
    "        ret, data, page_req_key = quote_ctx.request_history_kline(code, start=start, end=end)\n",
    "\n",
    "        # close the quote context\n",
    "        quote_ctx.close()\n",
    "\n",
    "        # convert the data to a pandas DataFrame\n",
    "        df = pd.DataFrame(data)\n",
    "\n",
    "        return df\n",
    "\n",
    "# print the DataFrame\n",
    "if __name__ == \"__main__\":\n",
    "    print(data.data_futu('HK.00700',\"2001-01-01\",\"2022-03-18\",\"127.0.0.1\",11111))"
   ]
  }
 ],
 "metadata": {
  "kernelspec": {
   "display_name": "Python 3",
   "language": "python",
   "name": "python3"
  },
  "language_info": {
   "codemirror_mode": {
    "name": "ipython",
    "version": 3
   },
   "file_extension": ".py",
   "mimetype": "text/x-python",
   "name": "python",
   "nbconvert_exporter": "python",
   "pygments_lexer": "ipython3",
   "version": "3.11.2"
  },
  "orig_nbformat": 4
 },
 "nbformat": 4,
 "nbformat_minor": 2
}
