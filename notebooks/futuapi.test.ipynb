{
 "cells": [
  {
   "cell_type": "code",
   "execution_count": 5,
   "metadata": {},
   "outputs": [
    {
     "name": "stdout",
     "output_type": "stream",
     "text": [
      "\u001b[0;30m2023-03-20 13:45:06,456 | 2212 | [open_context_base.py] _send_init_connect_sync:311: InitConnect ok: conn_id=6, host=127.0.0.1, port=11111, user_id=17110903\u001b[0m\n",
      "\u001b[0;30m2023-03-20 13:45:06,709 | 2212 | [open_context_base.py] on_disconnect:383: Disconnected: conn_id=6\u001b[0m\n",
      "       code             time_key       open      close       high        low  \\\n",
      "0  HK.00700  2013-03-13 00:00:00  44.425320  43.724714  44.425320  43.134730   \n",
      "1  HK.00700  2013-03-14 00:00:00  43.724714  43.282226  43.724714  42.950360   \n",
      "2  HK.00700  2013-03-15 00:00:00  43.060982  42.987234  43.687840  42.655368   \n",
      "3  HK.00700  2013-03-18 00:00:00  42.802864  40.959164  42.876612  40.922290   \n",
      "4  HK.00700  2013-03-19 00:00:00  41.917888  40.221684  41.954762  39.816070   \n",
      "\n",
      "   pe_ratio  turnover_rate    volume      turnover  change_rate  last_close  \n",
      "0    40.982        0.00211  21180698  1.084737e+09    -0.084261   43.761588  \n",
      "1    40.628        0.00314  31566687  1.607649e+09    -1.011986   43.724714  \n",
      "2    40.393        0.00946  95085308  4.820630e+09    -0.681555   43.282226  \n",
      "3    38.772        0.00491  49390304  2.426404e+09    -4.717843   42.987234  \n",
      "4    38.183        0.00441  44385826  2.141635e+09    -1.800525   40.959164  \n"
     ]
    }
   ],
   "source": [
    "import futu as ft\n",
    "import pandas as pd\n",
    "\n",
    "class data:\n",
    "    \n",
    "    def data_futu(code,start,end,host,port):\n",
    "        # connect to Futu API\n",
    "        quote_ctx = ft.OpenQuoteContext(host='127.0.0.1', port=11111)\n",
    "\n",
    "        # set the stock code and time range\n",
    "        code = 'HK.00700'  # Tencent stock code\n",
    "        start = '2001-01-01'\n",
    "        end = '2022-03-18'\n",
    "\n",
    "        # get the historical K-line data\n",
    "        ret, data, page_req_key = quote_ctx.request_history_kline(code, start=start, end=end)\n",
    "\n",
    "        # close the quote context\n",
    "        quote_ctx.close()\n",
    "\n",
    "        # convert the data to a pandas DataFrame\n",
    "        df = pd.DataFrame(data)\n",
    "\n",
    "        return df\n",
    "\n",
    "# print the DataFrame\n",
    "if __name__ == \"__main__\":\n",
    "    print(data.data_futu('HK.00700',\"2001-01-01\",\"2022-03-18\",\"127.0.0.1\",11111))"
   ]
  }
 ],
 "metadata": {
  "kernelspec": {
   "display_name": "Python 3",
   "language": "python",
   "name": "python3"
  },
  "language_info": {
   "codemirror_mode": {
    "name": "ipython",
    "version": 3
   },
   "file_extension": ".py",
   "mimetype": "text/x-python",
   "name": "python",
   "nbconvert_exporter": "python",
   "pygments_lexer": "ipython3",
   "version": "3.11.2"
  },
  "orig_nbformat": 4
 },
 "nbformat": 4,
 "nbformat_minor": 2
}
